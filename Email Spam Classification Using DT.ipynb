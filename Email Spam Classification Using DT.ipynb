{
 "cells": [
  {
   "cell_type": "code",
   "execution_count": 1,
   "id": "b277b82b",
   "metadata": {},
   "outputs": [],
   "source": [
    "import numpy as np\n",
    "import pandas as pd\n",
    "\n",
    "emails = pd.read_csv('mynewnew.csv')\n",
    "\n",
    "X= emails['email_text'].values\n",
    "y= emails['spam'].values\n"
   ]
  },
  {
   "cell_type": "code",
   "execution_count": 2,
   "id": "d284093a",
   "metadata": {},
   "outputs": [],
   "source": [
    "from collections import Counter\n",
    "\n",
    "def bag_of_words(text):\n",
    "    words = []\n",
    "    for email in text:\n",
    "        words.extend(email.split())\n",
    "    vocab = sorted(set(words))\n",
    "    \n",
    "    bow = np.zeros((len(text), len(vocab)), dtype=np.int64)\n",
    "    for i, email in enumerate(text):\n",
    "        freq = Counter(email.split())\n",
    "        for j, word in enumerate(vocab):\n",
    "            bow[i, j] = freq[word]\n",
    "    return bow, vocab\n",
    "\n",
    "X, vocab = bag_of_words(X)\n",
    "from numpy.random import shuffle\n",
    "\n",
    "idx = np.arange(X.shape[0])\n",
    "shuffle(idx)\n",
    "X = X[idx]\n",
    "y = y[idx]\n",
    "\n",
    "split = int(0.8 * len(y))\n",
    "X_train, X_test = X[:split], X[split:]\n",
    "y_train, y_test = y[:split], y[split:]\n"
   ]
  },
  {
   "cell_type": "code",
   "execution_count": 3,
   "id": "e80fefa9",
   "metadata": {},
   "outputs": [],
   "source": [
    "class DecisionTreeClassifier:\n",
    "    def __init__(self, max_depth=None):\n",
    "        self.max_depth = max_depth\n",
    "        self.tree = None\n",
    "    \n",
    "    def entropy(self, y):\n",
    "        n_samples = len(y)\n",
    "        if n_samples == 0:\n",
    "            return 0\n",
    "        class_counts = np.bincount(y)\n",
    "        probs = class_counts / n_samples\n",
    "        probs = probs[probs > 0]\n",
    "        return -np.sum(probs * np.log2(probs))\n",
    "    \n",
    "    def information_gain(self, X, y, feature_idx):\n",
    "        n_samples = len(y)\n",
    "        y0 = y[X[:, feature_idx] == 0]\n",
    "        y1 = y[X[:, feature_idx] == 1]\n",
    "        p0 = len(y0) / n_samples\n",
    "        p1 = len(y1) / n_samples\n",
    "        entropy_y = self.entropy(y)\n",
    "        entropy_y0 = self.entropy(y0)\n",
    "        entropy_y1 = self.entropy(y1)\n",
    "        return entropy_y - p0 * entropy_y0 - p1 * entropy_y1\n",
    "    \n",
    "    def build_tree(self, X, y, depth=0):\n",
    "        n_samples, n_features = X.shape\n",
    "        n_classes = len(np.unique(y))\n",
    "        \n",
    "        if n_classes == 1 or n_samples < 2 or (self.max_depth is not None and depth >= self.max_depth):\n",
    "            return np.bincount(y).argmax()\n",
    "        \n",
    "        best_feature = None\n",
    "        best_gain = -np.inf\n",
    "        for feature in range(n_features):\n",
    "            gain = self.information_gain(X, y, feature)\n",
    "            if gain > best_gain:\n",
    "                best_gain = gain\n",
    "                best_feature = feature\n",
    "        \n",
    "        tree = {'feature': best_feature}\n",
    "        X_left = X[X[:, best_feature] == 0]\n",
    "        y_left = y[X[:, best_feature] == 0]\n",
    "        X_right = X[X[:, best_feature] == 1]\n",
    "        y_right = y[X[:, best_feature] == 1]\n",
    "        \n",
    "        tree['left'] = self.build_tree(X_left, y_left, depth + 1)\n",
    "        tree['right'] = self.build_tree(X_right, y_right, depth + 1)\n",
    "        return tree\n",
    "    \n",
    "    def fit(self, X, y):\n",
    "        self.tree = self.build_tree(X, y)\n",
    "    \n",
    "    def predict(self, X):\n",
    "        predictions = np.zeros(len(X))\n",
    "        for i, sample in enumerate(X):\n",
    "            node = self.tree\n",
    "            while isinstance(node, dict):\n",
    "                feature = node['feature']\n",
    "                if sample[feature] == 0:\n",
    "                    node = node['left']\n",
    "                else:\n",
    "                    node = node['right']\n",
    "            predictions[i] = node\n",
    "        return predictions\n"
   ]
  },
  {
   "cell_type": "code",
   "execution_count": 4,
   "id": "9a95be67",
   "metadata": {},
   "outputs": [
    {
     "name": "stdout",
     "output_type": "stream",
     "text": [
      "Accuracy: 0.91\n"
     ]
    }
   ],
   "source": [
    "clf = DecisionTreeClassifier(max_depth=5)\n",
    "clf.fit(X_train, y_train)\n",
    "\n",
    "y_pred = clf.predict(X_test)\n",
    "\n",
    "accuracy = np.mean(y_pred == y_test)\n",
    "print(f'Accuracy: {accuracy:.2f}')"
   ]
  },
  {
   "cell_type": "code",
   "execution_count": null,
   "id": "a4772de2",
   "metadata": {},
   "outputs": [],
   "source": []
  },
  {
   "cell_type": "code",
   "execution_count": null,
   "id": "b70e1982",
   "metadata": {},
   "outputs": [],
   "source": []
  }
 ],
 "metadata": {
  "kernelspec": {
   "display_name": "Python 3 (ipykernel)",
   "language": "python",
   "name": "python3"
  },
  "language_info": {
   "codemirror_mode": {
    "name": "ipython",
    "version": 3
   },
   "file_extension": ".py",
   "mimetype": "text/x-python",
   "name": "python",
   "nbconvert_exporter": "python",
   "pygments_lexer": "ipython3",
   "version": "3.10.9"
  }
 },
 "nbformat": 4,
 "nbformat_minor": 5
}
